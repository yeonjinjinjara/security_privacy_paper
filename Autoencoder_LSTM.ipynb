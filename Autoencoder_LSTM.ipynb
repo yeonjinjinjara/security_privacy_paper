{
 "cells": [
  {
   "cell_type": "code",
   "execution_count": 1,
   "id": "24e1ce85-3347-459b-975e-4ac5fb0d36de",
   "metadata": {},
   "outputs": [],
   "source": [
    "import numpy as np\n",
    "import pandas as pd\n",
    "import time\n",
    "from sklearn.model_selection import train_test_split\n",
    "from tensorflow.keras.models import Sequential, Model\n",
    "from tensorflow.keras.layers import LSTM, Dense, Input\n",
    "from sklearn.preprocessing import StandardScaler\n",
    "from tensorflow.keras.callbacks import EarlyStopping\n",
    "from tensorflow.keras.utils import to_categorical"
   ]
  },
  {
   "cell_type": "code",
   "execution_count": 2,
   "id": "faae6045-2374-4955-9e94-80702f702a95",
   "metadata": {},
   "outputs": [],
   "source": [
    "def combine_dataset(files, col_names, processed = False):\n",
    "\tdtypes = {}\n",
    "\tif processed == False:\n",
    "\t\tfor col_name in col_names:\n",
    "\t\t\tnominal_names = set(['srcip', 'sport', 'dstip', 'dsport', 'proto', 'state',\n",
    "\t\t\t\t                 'service', 'ct_ftp', 'label_10'])  #Nominal column\n",
    "\t\t\tif col_name in nominal_names:\n",
    "\t\t\t\tdtypes[col_name] =  str\n",
    "\t\t\telse:\n",
    "\t\t\t\tdtypes[col_name] = np.float32\n",
    "\telse:\n",
    "\t\tfor col_name in col_names:\n",
    "\t\t\tdtypes[col_name] = np.float32\n",
    "\n",
    "\trecords = []\n",
    "\tfor file in files:\n",
    "\t\tdata = pd.read_csv(file, header = None, names = col_names, dtype = dtypes)\n",
    "\t\trecords.append(data)\n",
    "\n",
    "\trecords_all = pd.concat(records) #When there is no index, concat adds them together regardless of the column names,\n",
    "\n",
    "\n",
    "\treturn records_all"
   ]
  },
  {
   "cell_type": "code",
   "execution_count": 3,
   "id": "62a7376d-ab76-4786-9cb9-04bd4769a2cc",
   "metadata": {},
   "outputs": [],
   "source": [
    "#Remove the unimportant feature, one-hot encoding, and convert the attack class to numeric\n",
    "def select_feature_and_encoding(dataset, cols_to_drop, cols_nominal):\n",
    "    \n",
    "\t# Drop the features has no meaning such as src ip.\n",
    "    for cols in cols_to_drop:\n",
    "        dataset.drop(cols, axis = 1, inplace = True)\n",
    "\n",
    "\t# Save the label and then drop it from dataset\n",
    "    label_10 = dataset['label_10']\n",
    "    dataset.drop('label_2', axis = 1, inplace = True)\n",
    "\n",
    "\t# replace the label with specific code\n",
    "    replace_dict = { 'NaN': 0, 'Analysis': 1, 'Backdoors': 2, 'Backdoor': 2, 'DoS': 3,\n",
    "                    'Exploits':4,' Fuzzers': 5, ' Fuzzers ':5, 'Generic': 6,\n",
    "                    'Reconnaissance': 7, ' Shellcode ':8, 'Shellcode': 8,\n",
    "                    'Worms':9, ' Reconnaissance ': 7,}\n",
    "    dataset['label_10'] = label_10.replace(replace_dict)\n",
    "\n",
    "\t# replace the lost values\n",
    "    replace_dict = {\"NaN\": 0, ' ': 0}\n",
    "    for cols in ['ct_ftp', 'ct_flw', 'is_ftp']:\n",
    "        dataset[cols] = dataset[cols].replace(replace_dict)\n",
    "        \n",
    "    for x in dataset['is_ftp']:\n",
    "        if x != 0:\n",
    "            x = 1\n",
    "\n",
    "    for col_name in cols_nominal:\n",
    "        dataset.drop(col_name, axis = 1, inplace = True) \n",
    "\n",
    "    return dataset  #Complete data set (including data and labels)"
   ]
  },
  {
   "cell_type": "code",
   "execution_count": 4,
   "id": "1ce33df2-e91a-42b9-b129-7868946bff63",
   "metadata": {},
   "outputs": [],
   "source": [
    "file_folder = 'unsw-NB15/'  #The location where the original file was read\n",
    "col_names = ['srcip', 'sport', 'dstip', 'dsport', 'proto', 'state', 'dur',\n",
    "\t             'sbytes', 'dbytes', 'sttl', 'dttl', 'sloss', 'dloss',\n",
    "\t             'service', 'sload', 'dload', 'spkts', 'dpkts', 'swin', 'dwin',\n",
    "\t             'stcpb', 'dtcpb', 'smeansz', 'dmeansz', 'trans_depth',\n",
    "\t             'res_bdy_len', 'sjit', 'djit', 'stime', 'ltime', 'sintpkt',\n",
    "\t             'dintpkt', 'tcprtt', 'synack', 'ackdat', 'is_sm_ips',\n",
    "\t             'ct_state_ttl', 'ct_flw', 'is_ftp', 'ct_ftp', 'ct_srv_src',\n",
    "\t             'ct_srv_dst', 'ct_dst_ltm', 'ct_src_ltm', 'ct_src_dport',\n",
    "\t             'ct_dst_sport', 'ct_dst_src', 'label_10', 'label_2']    #listed name\n",
    "\n",
    "cols_to_drop = ['srcip', 'dstip', 'stime', 'ltime', 'sport', 'dsport']\n",
    "cols_nominal = ['proto', 'service', 'state']   #Nominal features\n",
    "\n",
    "files = [file_folder + 'UNSW-NB15_' + str(i+1) + '.csv' for i in range(4)]\n",
    "dataset = combine_dataset(files, col_names)\n",
    "dataset = dataset.fillna(\"NaN\")"
   ]
  },
  {
   "cell_type": "code",
   "execution_count": 5,
   "id": "d4691bcf-c819-464b-9eae-64a14d37362c",
   "metadata": {},
   "outputs": [],
   "source": [
    "dataset = select_feature_and_encoding(dataset, cols_to_drop, cols_nominal)"
   ]
  },
  {
   "cell_type": "code",
   "execution_count": 6,
   "id": "c6aa1a8f-35de-4774-ba52-e601991aa8bf",
   "metadata": {},
   "outputs": [],
   "source": [
    "X = dataset.drop('label_10', axis=1) \n",
    "y = dataset['label_10'] "
   ]
  },
  {
   "cell_type": "code",
   "execution_count": 7,
   "id": "0a89b7e0-f1bd-403c-827f-e04b076289b9",
   "metadata": {},
   "outputs": [],
   "source": [
    "# 데이터 스케일링\n",
    "scaler = StandardScaler()\n",
    "X_scaled = scaler.fit_transform(X)\n",
    "feature_cnt = 19"
   ]
  },
  {
   "cell_type": "code",
   "execution_count": 8,
   "id": "c04e14f2-963f-4812-83d6-16730cc54d02",
   "metadata": {},
   "outputs": [],
   "source": [
    "# 학습 데이터와 테스트 데이터로 분할\n",
    "X_train, X_test, y_train, y_test = train_test_split(X_scaled, y, test_size=0.2, random_state=42)"
   ]
  },
  {
   "cell_type": "code",
   "execution_count": 9,
   "id": "f65d2050-dcb5-4051-b617-57ad9c242ed7",
   "metadata": {},
   "outputs": [
    {
     "name": "stderr",
     "output_type": "stream",
     "text": [
      "C:\\Users\\duswl\\anaconda3\\Lib\\site-packages\\keras\\src\\layers\\core\\dense.py:88: UserWarning: Do not pass an `input_shape`/`input_dim` argument to a layer. When using Sequential models, prefer using an `Input(shape)` object as the first layer in the model instead.\n",
      "  super().__init__(activity_regularizer=activity_regularizer, **kwargs)\n"
     ]
    }
   ],
   "source": [
    "# 오토인코더 모델 정의\n",
    "autoencoder = Sequential([\n",
    "    Dense(64, activation='relu', input_shape=(X_train.shape[1],)),\n",
    "    Dense(32, activation='relu'),\n",
    "    Dense(feature_cnt, activation='relu'),\n",
    "    Dense(32, activation='relu'),\n",
    "    Dense(64, activation='relu'),\n",
    "    Dense(X_train.shape[1], activation='linear')\n",
    "])"
   ]
  },
  {
   "cell_type": "code",
   "execution_count": 10,
   "id": "0a320886-b3c9-4591-8734-96056d47a236",
   "metadata": {},
   "outputs": [],
   "source": [
    "autoencoder.compile(optimizer='adam', loss='mse')"
   ]
  },
  {
   "cell_type": "code",
   "execution_count": 11,
   "id": "65836395-ed69-4ef7-97a3-647b8a2d3c8c",
   "metadata": {},
   "outputs": [
    {
     "name": "stdout",
     "output_type": "stream",
     "text": [
      "Epoch 1/50\n",
      "\u001b[1m28576/28576\u001b[0m \u001b[32m━━━━━━━━━━━━━━━━━━━━\u001b[0m\u001b[37m\u001b[0m \u001b[1m20s\u001b[0m 660us/step - loss: 0.1162 - val_loss: 0.0290\n",
      "Epoch 2/50\n",
      "\u001b[1m28576/28576\u001b[0m \u001b[32m━━━━━━━━━━━━━━━━━━━━\u001b[0m\u001b[37m\u001b[0m \u001b[1m19s\u001b[0m 649us/step - loss: 0.0463 - val_loss: 0.0442\n",
      "Epoch 3/50\n",
      "\u001b[1m28576/28576\u001b[0m \u001b[32m━━━━━━━━━━━━━━━━━━━━\u001b[0m\u001b[37m\u001b[0m \u001b[1m19s\u001b[0m 650us/step - loss: 0.0380 - val_loss: 0.0098\n",
      "Epoch 4/50\n",
      "\u001b[1m28576/28576\u001b[0m \u001b[32m━━━━━━━━━━━━━━━━━━━━\u001b[0m\u001b[37m\u001b[0m \u001b[1m19s\u001b[0m 650us/step - loss: 0.0408 - val_loss: 0.0153\n",
      "Epoch 5/50\n",
      "\u001b[1m28576/28576\u001b[0m \u001b[32m━━━━━━━━━━━━━━━━━━━━\u001b[0m\u001b[37m\u001b[0m \u001b[1m19s\u001b[0m 659us/step - loss: 0.0482 - val_loss: 0.0153\n",
      "Epoch 6/50\n",
      "\u001b[1m28576/28576\u001b[0m \u001b[32m━━━━━━━━━━━━━━━━━━━━\u001b[0m\u001b[37m\u001b[0m \u001b[1m19s\u001b[0m 658us/step - loss: 0.0699 - val_loss: 0.0118\n",
      "AutoEncoder Training Time: 114.36725497245789 seconds\n"
     ]
    }
   ],
   "source": [
    "# 오토인코더 모델 학습\n",
    "start_time = time.time()\n",
    "autoencoder.fit(X_train, X_train, epochs=50, batch_size=64, validation_split=0.1, callbacks=[EarlyStopping(patience=3)])\n",
    "auto_training_time = time.time() - start_time\n",
    "print(\"AutoEncoder Training Time:\", auto_training_time, \"seconds\")"
   ]
  },
  {
   "cell_type": "code",
   "execution_count": 12,
   "id": "847b7fca-5f64-4b93-9ad6-2cc012c2315a",
   "metadata": {},
   "outputs": [
    {
     "name": "stdout",
     "output_type": "stream",
     "text": [
      "\u001b[1m63502/63502\u001b[0m \u001b[32m━━━━━━━━━━━━━━━━━━━━\u001b[0m\u001b[37m\u001b[0m \u001b[1m29s\u001b[0m 457us/step\n",
      "\u001b[1m15876/15876\u001b[0m \u001b[32m━━━━━━━━━━━━━━━━━━━━\u001b[0m\u001b[37m\u001b[0m \u001b[1m7s\u001b[0m 455us/step\n",
      "AutoEncoder Testing Time: 65.55946516990662 seconds\n"
     ]
    }
   ],
   "source": [
    "# 오토인코더를 사용하여 데이터 압축\n",
    "encoder = Model(inputs=autoencoder.layers[0].input, outputs=autoencoder.layers[2].output)\n",
    "start_time = time.time()\n",
    "X_train_compressed = encoder.predict(X_train)\n",
    "X_test_compressed = encoder.predict(X_test)\n",
    "auto_inference_time = time.time() - start_time\n",
    "print(\"AutoEncoder Testing Time:\", auto_inference_time, \"seconds\")"
   ]
  },
  {
   "cell_type": "code",
   "execution_count": 13,
   "id": "1fcdc06c-af7a-42fb-97de-187eaab28f4c",
   "metadata": {},
   "outputs": [],
   "source": [
    "# 압축된 데이터를 3차원으로 변환 (샘플 수, 타임 스텝 수, 특성 수)\n",
    "X_train_compressed_3d = X_train_compressed.reshape(X_train_compressed.shape[0], 1, X_train_compressed.shape[1])\n",
    "X_test_compressed_3d = X_test_compressed.reshape(X_test_compressed.shape[0], 1, X_test_compressed.shape[1])"
   ]
  },
  {
   "cell_type": "code",
   "execution_count": 14,
   "id": "0e24983d-7a4b-49a0-94db-be216827425e",
   "metadata": {},
   "outputs": [
    {
     "name": "stderr",
     "output_type": "stream",
     "text": [
      "C:\\Users\\duswl\\anaconda3\\Lib\\site-packages\\keras\\src\\layers\\rnn\\rnn.py:204: UserWarning: Do not pass an `input_shape`/`input_dim` argument to a layer. When using Sequential models, prefer using an `Input(shape)` object as the first layer in the model instead.\n",
      "  super().__init__(**kwargs)\n"
     ]
    }
   ],
   "source": [
    "# LSTM 모델 정의\n",
    "model = Sequential([\n",
    "    LSTM(64, input_shape=(X_train_compressed_3d.shape[1], X_train_compressed_3d.shape[2]), return_sequences=True),\n",
    "    LSTM(32, return_sequences=False),\n",
    "    Dense(10, activation='softmax')\n",
    "])"
   ]
  },
  {
   "cell_type": "code",
   "execution_count": 15,
   "id": "9837db56-06f9-4493-a8a7-4c3ad318c737",
   "metadata": {},
   "outputs": [],
   "source": [
    "model.compile(optimizer='adam', loss='categorical_crossentropy', metrics=['accuracy'])"
   ]
  },
  {
   "cell_type": "code",
   "execution_count": 16,
   "id": "08794b69-399e-4e02-adc5-63f6b4896c33",
   "metadata": {},
   "outputs": [],
   "source": [
    "# 라벨을 one-hot 인코딩\n",
    "y_train_onehot = pd.get_dummies(y_train)\n",
    "y_test_onehot = pd.get_dummies(y_test)"
   ]
  },
  {
   "cell_type": "code",
   "execution_count": null,
   "id": "0c00763b-3f30-408c-992d-fd41e6a32a51",
   "metadata": {},
   "outputs": [
    {
     "name": "stdout",
     "output_type": "stream",
     "text": [
      "Epoch 1/10\n",
      "\u001b[1m28576/28576\u001b[0m \u001b[32m━━━━━━━━━━━━━━━━━━━━\u001b[0m\u001b[37m\u001b[0m \u001b[1m36s\u001b[0m 1ms/step - accuracy: 0.9620 - loss: 0.1238 - val_accuracy: 0.9689 - val_loss: 0.0826\n",
      "Epoch 2/10\n",
      "\u001b[1m28576/28576\u001b[0m \u001b[32m━━━━━━━━━━━━━━━━━━━━\u001b[0m\u001b[37m\u001b[0m \u001b[1m34s\u001b[0m 1ms/step - accuracy: 0.9710 - loss: 0.0765 - val_accuracy: 0.9717 - val_loss: 0.0743\n",
      "Epoch 3/10\n",
      "\u001b[1m28576/28576\u001b[0m \u001b[32m━━━━━━━━━━━━━━━━━━━━\u001b[0m\u001b[37m\u001b[0m \u001b[1m33s\u001b[0m 1ms/step - accuracy: 0.9722 - loss: 0.0721 - val_accuracy: 0.9724 - val_loss: 0.0706\n",
      "Epoch 4/10\n",
      "\u001b[1m28576/28576\u001b[0m \u001b[32m━━━━━━━━━━━━━━━━━━━━\u001b[0m\u001b[37m\u001b[0m \u001b[1m32s\u001b[0m 1ms/step - accuracy: 0.9729 - loss: 0.0691 - val_accuracy: 0.9704 - val_loss: 0.0691\n",
      "Epoch 5/10\n",
      "\u001b[1m28576/28576\u001b[0m \u001b[32m━━━━━━━━━━━━━━━━━━━━\u001b[0m\u001b[37m\u001b[0m \u001b[1m32s\u001b[0m 1ms/step - accuracy: 0.9730 - loss: 0.0681 - val_accuracy: 0.9733 - val_loss: 0.0679\n",
      "Epoch 6/10\n",
      "\u001b[1m28576/28576\u001b[0m \u001b[32m━━━━━━━━━━━━━━━━━━━━\u001b[0m\u001b[37m\u001b[0m \u001b[1m32s\u001b[0m 1ms/step - accuracy: 0.9733 - loss: 0.0672 - val_accuracy: 0.9734 - val_loss: 0.0669\n",
      "Epoch 7/10\n",
      "\u001b[1m28576/28576\u001b[0m \u001b[32m━━━━━━━━━━━━━━━━━━━━\u001b[0m\u001b[37m\u001b[0m \u001b[1m32s\u001b[0m 1ms/step - accuracy: 0.9736 - loss: 0.0666 - val_accuracy: 0.9737 - val_loss: 0.0672\n",
      "Epoch 8/10\n",
      "\u001b[1m28576/28576\u001b[0m \u001b[32m━━━━━━━━━━━━━━━━━━━━\u001b[0m\u001b[37m\u001b[0m \u001b[1m32s\u001b[0m 1ms/step - accuracy: 0.9740 - loss: 0.0658 - val_accuracy: 0.9740 - val_loss: 0.0657\n",
      "Epoch 9/10\n",
      "\u001b[1m21026/28576\u001b[0m \u001b[32m━━━━━━━━━━━━━━\u001b[0m\u001b[37m━━━━━━\u001b[0m \u001b[1m7s\u001b[0m 1ms/step - accuracy: 0.9743 - loss: 0.0649"
     ]
    }
   ],
   "source": [
    "# LSTM 모델 학습\n",
    "start_time = time.time()\n",
    "model.fit(X_train_compressed_3d, y_train_onehot, epochs=10, batch_size=64, validation_split=0.1, callbacks=[EarlyStopping(patience=3)])\n",
    "training_time = time.time() - start_time\n",
    "print(\"Training Time:\", training_time, \"seconds\")"
   ]
  },
  {
   "cell_type": "code",
   "execution_count": null,
   "id": "57ad7c4e-2dc1-4ea8-948e-ab11da8fb691",
   "metadata": {},
   "outputs": [],
   "source": [
    "# 모델 평가\n",
    "start_time = time.time()\n",
    "loss, accuracy = model.evaluate(X_test_compressed_3d, y_test_onehot)\n",
    "inference_time = time.time() - start_time\n",
    "print(\"Testing Time:\", inference_time, \"seconds\")\n",
    "print(\"Test Accuracy:\", accuracy)"
   ]
  },
  {
   "cell_type": "code",
   "execution_count": null,
   "id": "503649fd-d10d-42eb-987e-f352c5b14c87",
   "metadata": {},
   "outputs": [],
   "source": []
  }
 ],
 "metadata": {
  "kernelspec": {
   "display_name": "Python 3 (ipykernel)",
   "language": "python",
   "name": "python3"
  },
  "language_info": {
   "codemirror_mode": {
    "name": "ipython",
    "version": 3
   },
   "file_extension": ".py",
   "mimetype": "text/x-python",
   "name": "python",
   "nbconvert_exporter": "python",
   "pygments_lexer": "ipython3",
   "version": "3.11.7"
  }
 },
 "nbformat": 4,
 "nbformat_minor": 5
}
