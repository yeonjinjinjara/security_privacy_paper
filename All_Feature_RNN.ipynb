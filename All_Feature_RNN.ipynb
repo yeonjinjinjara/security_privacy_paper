{
 "cells": [
  {
   "cell_type": "code",
   "execution_count": 1,
   "id": "c4a22dc5-7a97-482d-9164-b5efdf5e42b2",
   "metadata": {},
   "outputs": [],
   "source": [
    "import time\n",
    "import pandas as pd\n",
    "import numpy as np\n",
    "import tensorflow as tf\n",
    "from sklearn.model_selection import train_test_split\n",
    "from tensorflow.keras.models import Sequential, Model\n",
    "from tensorflow.keras.layers import SimpleRNN, Dense, Input\n",
    "from sklearn.preprocessing import StandardScaler\n",
    "from tensorflow.keras.callbacks import EarlyStopping\n",
    "from sklearn.metrics import accuracy_score\n",
    "from tensorflow.keras.utils import to_categorical"
   ]
  },
  {
   "cell_type": "code",
   "execution_count": 2,
   "id": "5375f596-1b5d-4a5b-9af5-2c2ecc70a9b3",
   "metadata": {},
   "outputs": [],
   "source": [
    "def combine_dataset(files, col_names, processed = False):\n",
    "\tdtypes = {}\n",
    "\tif processed == False:\n",
    "\t\tfor col_name in col_names:\n",
    "\t\t\tnominal_names = set(['srcip', 'sport', 'dstip', 'dsport', 'proto', 'state',\n",
    "\t\t\t\t                 'service', 'ct_ftp', 'label_10'])  #Nominal column\n",
    "\t\t\tif col_name in nominal_names:\n",
    "\t\t\t\tdtypes[col_name] =  str\n",
    "\t\t\telse:\n",
    "\t\t\t\tdtypes[col_name] = np.float32\n",
    "\telse:\n",
    "\t\tfor col_name in col_names:\n",
    "\t\t\tdtypes[col_name] = np.float32\n",
    "\n",
    "\trecords = []\n",
    "\tfor file in files:\n",
    "\t\tdata = pd.read_csv(file, header = None, names = col_names, dtype = dtypes)\n",
    "\t\trecords.append(data)\n",
    "\n",
    "\trecords_all = pd.concat(records) #When there is no index, concat adds them together regardless of the column names,\n",
    "\n",
    "\n",
    "\treturn records_all"
   ]
  },
  {
   "cell_type": "code",
   "execution_count": 3,
   "id": "8ab2a1fc-c2c7-4979-ac74-cfcee143a108",
   "metadata": {},
   "outputs": [],
   "source": [
    "#Remove the unimportant feature, one-hot encoding, and convert the attack class to numeric\n",
    "def select_feature_and_encoding(dataset, cols_to_drop, cols_nominal):\n",
    "    \n",
    "\t# Drop the features has no meaning such as src ip.\n",
    "    for cols in cols_to_drop:\n",
    "        dataset.drop(cols, axis = 1, inplace = True)\n",
    "\n",
    "\t# Save the label and then drop it from dataset\n",
    "    label_10 = dataset['label_10']\n",
    "    dataset.drop('label_2', axis = 1, inplace = True)\n",
    "\n",
    "\t# replace the label with specific code\n",
    "    replace_dict = { 'NaN': 0, 'Analysis': 1, 'Backdoors': 2, 'Backdoor': 2, 'DoS': 3,\n",
    "                    'Exploits':4,' Fuzzers': 5, ' Fuzzers ':5, 'Generic': 6,\n",
    "                    'Reconnaissance': 7, ' Shellcode ':8, 'Shellcode': 8,\n",
    "                    'Worms':9, ' Reconnaissance ': 7,}\n",
    "    dataset['label_10'] = label_10.replace(replace_dict)\n",
    "\n",
    "\t# replace the lost values\n",
    "    replace_dict = {\"NaN\": 0, ' ': 0}\n",
    "    for cols in ['ct_ftp', 'ct_flw', 'is_ftp']:\n",
    "        dataset[cols] = dataset[cols].replace(replace_dict)\n",
    "        \n",
    "    for x in dataset['is_ftp']:\n",
    "        if x != 0:\n",
    "            x = 1\n",
    "\n",
    "    for col_name in cols_nominal:\n",
    "        dataset.drop(col_name, axis = 1, inplace = True) \n",
    "\n",
    "    return dataset  #Complete data set (including data and labels)"
   ]
  },
  {
   "cell_type": "code",
   "execution_count": 4,
   "id": "12b89f06-e80a-43d7-b2ac-566fa3971ed4",
   "metadata": {},
   "outputs": [],
   "source": [
    "file_folder = 'unsw-NB15/'  #The location where the original file was read\n",
    "col_names = ['srcip', 'sport', 'dstip', 'dsport', 'proto', 'state', 'dur',\n",
    "\t             'sbytes', 'dbytes', 'sttl', 'dttl', 'sloss', 'dloss',\n",
    "\t             'service', 'sload', 'dload', 'spkts', 'dpkts', 'swin', 'dwin',\n",
    "\t             'stcpb', 'dtcpb', 'smeansz', 'dmeansz', 'trans_depth',\n",
    "\t             'res_bdy_len', 'sjit', 'djit', 'stime', 'ltime', 'sintpkt',\n",
    "\t             'dintpkt', 'tcprtt', 'synack', 'ackdat', 'is_sm_ips',\n",
    "\t             'ct_state_ttl', 'ct_flw', 'is_ftp', 'ct_ftp', 'ct_srv_src',\n",
    "\t             'ct_srv_dst', 'ct_dst_ltm', 'ct_src_ltm', 'ct_src_dport',\n",
    "\t             'ct_dst_sport', 'ct_dst_src', 'label_10', 'label_2']    #listed name\n",
    "\n",
    "cols_to_drop = ['srcip', 'dstip', 'stime', 'ltime', 'sport', 'dsport']\n",
    "cols_nominal = ['proto', 'service', 'state']   #Nominal features\n",
    "\n",
    "files = [file_folder + 'UNSW-NB15_' + str(i+1) + '.csv' for i in range(4)]\n",
    "dataset = combine_dataset(files, col_names)\n",
    "dataset = dataset.fillna(\"NaN\")"
   ]
  },
  {
   "cell_type": "code",
   "execution_count": 5,
   "id": "863dc5fa-cca9-4ffb-8614-9c0b93b3ff63",
   "metadata": {},
   "outputs": [],
   "source": [
    "dataset = select_feature_and_encoding(dataset, cols_to_drop, cols_nominal)"
   ]
  },
  {
   "cell_type": "code",
   "execution_count": 6,
   "id": "c6369ad6-9d1b-40c9-8299-ab6fe80e6b9f",
   "metadata": {},
   "outputs": [],
   "source": [
    "X = dataset.drop('label_10', axis=1)\n",
    "y = dataset['label_10']"
   ]
  },
  {
   "cell_type": "code",
   "execution_count": 7,
   "id": "155fadbe-2ee3-446e-bce1-6ab922a4376b",
   "metadata": {},
   "outputs": [],
   "source": [
    "# 데이터 스케일링\n",
    "scaler = StandardScaler()\n",
    "X_scaled = scaler.fit_transform(X)"
   ]
  },
  {
   "cell_type": "code",
   "execution_count": 8,
   "id": "c160b254-101f-4569-a3f8-5d9dacbf3529",
   "metadata": {},
   "outputs": [],
   "source": [
    "# 분류 라벨을 원-핫 인코딩\n",
    "y_onehot = to_categorical(y)"
   ]
  },
  {
   "cell_type": "code",
   "execution_count": 9,
   "id": "55b12a43-708f-41b2-92cd-607cbcf1180d",
   "metadata": {},
   "outputs": [],
   "source": [
    "# LSTM 입력 형태로 데이터 재구성\n",
    "X_reshaped = X_scaled.reshape(X_scaled.shape[0], X_scaled.shape[1], 1)"
   ]
  },
  {
   "cell_type": "code",
   "execution_count": 10,
   "id": "fc900102-fc09-4547-b1ba-e88fbfa8530f",
   "metadata": {},
   "outputs": [],
   "source": [
    "# 학습 데이터와 테스트 데이터로 분할\n",
    "X_train, X_test, y_train, y_test = train_test_split(X_reshaped, y_onehot, test_size=0.2, random_state=42)"
   ]
  },
  {
   "cell_type": "code",
   "execution_count": 11,
   "id": "4a7bb84a-072c-4829-b80f-1931825219a0",
   "metadata": {},
   "outputs": [
    {
     "name": "stderr",
     "output_type": "stream",
     "text": [
      "C:\\Users\\duswl\\anaconda3\\Lib\\site-packages\\keras\\src\\layers\\rnn\\rnn.py:204: UserWarning: Do not pass an `input_shape`/`input_dim` argument to a layer. When using Sequential models, prefer using an `Input(shape)` object as the first layer in the model instead.\n",
      "  super().__init__(**kwargs)\n"
     ]
    }
   ],
   "source": [
    "# RNN 모델 정의\n",
    "model = Sequential([\n",
    "    SimpleRNN(64, input_shape=(X_train.shape[1], X_train.shape[2]), activation='relu', return_sequences=True),\n",
    "    SimpleRNN(32, activation='relu'),\n",
    "    Dense(10, activation='softmax')\n",
    "])"
   ]
  },
  {
   "cell_type": "code",
   "execution_count": 12,
   "id": "2033aa72-cb92-43fd-b591-be6766602e43",
   "metadata": {},
   "outputs": [],
   "source": [
    "model.compile(optimizer='adam', loss='categorical_crossentropy', metrics=['accuracy'])"
   ]
  },
  {
   "cell_type": "code",
   "execution_count": 13,
   "id": "2c1b4734-cf2f-49d3-8cc0-21d5be61dca9",
   "metadata": {},
   "outputs": [
    {
     "name": "stdout",
     "output_type": "stream",
     "text": [
      "Epoch 1/10\n",
      "\u001b[1m28576/28576\u001b[0m \u001b[32m━━━━━━━━━━━━━━━━━━━━\u001b[0m\u001b[37m\u001b[0m \u001b[1m157s\u001b[0m 5ms/step - accuracy: 0.9631 - loss: 0.1120 - val_accuracy: 0.9712 - val_loss: 0.0732\n",
      "Epoch 2/10\n",
      "\u001b[1m28576/28576\u001b[0m \u001b[32m━━━━━━━━━━━━━━━━━━━━\u001b[0m\u001b[37m\u001b[0m \u001b[1m153s\u001b[0m 5ms/step - accuracy: 0.9730 - loss: 0.0704 - val_accuracy: 0.9729 - val_loss: 0.0717\n",
      "Epoch 3/10\n",
      "\u001b[1m28576/28576\u001b[0m \u001b[32m━━━━━━━━━━━━━━━━━━━━\u001b[0m\u001b[37m\u001b[0m \u001b[1m153s\u001b[0m 5ms/step - accuracy: 0.9733 - loss: 0.0701 - val_accuracy: 0.9725 - val_loss: 0.0746\n",
      "Epoch 4/10\n",
      "\u001b[1m28576/28576\u001b[0m \u001b[32m━━━━━━━━━━━━━━━━━━━━\u001b[0m\u001b[37m\u001b[0m \u001b[1m153s\u001b[0m 5ms/step - accuracy: 0.9726 - loss: 0.0726 - val_accuracy: 0.9724 - val_loss: 0.0704\n",
      "Epoch 5/10\n",
      "\u001b[1m28576/28576\u001b[0m \u001b[32m━━━━━━━━━━━━━━━━━━━━\u001b[0m\u001b[37m\u001b[0m \u001b[1m152s\u001b[0m 5ms/step - accuracy: 0.9725 - loss: 0.0737 - val_accuracy: 0.9655 - val_loss: 0.0922\n",
      "Epoch 6/10\n",
      "\u001b[1m28576/28576\u001b[0m \u001b[32m━━━━━━━━━━━━━━━━━━━━\u001b[0m\u001b[37m\u001b[0m \u001b[1m135s\u001b[0m 5ms/step - accuracy: 0.9717 - loss: 0.0766 - val_accuracy: 0.9732 - val_loss: 0.0720\n",
      "Epoch 7/10\n",
      "\u001b[1m28576/28576\u001b[0m \u001b[32m━━━━━━━━━━━━━━━━━━━━\u001b[0m\u001b[37m\u001b[0m \u001b[1m135s\u001b[0m 5ms/step - accuracy: 0.9729 - loss: 0.0723 - val_accuracy: 0.9660 - val_loss: 0.1007\n",
      "Training Time: 1037.838800907135 seconds\n"
     ]
    }
   ],
   "source": [
    "# RNN 모델 학습\n",
    "start_time = time.time()\n",
    "model.fit(X_train, y_train, epochs=10, batch_size=64, validation_split=0.1, callbacks=[EarlyStopping(patience=3)])\n",
    "training_time = time.time() - start_time\n",
    "print(\"Training Time:\", training_time, \"seconds\")"
   ]
  },
  {
   "cell_type": "code",
   "execution_count": 14,
   "id": "9064ecba-ff9e-48dc-98bf-a380a2f79afe",
   "metadata": {},
   "outputs": [
    {
     "name": "stdout",
     "output_type": "stream",
     "text": [
      "\u001b[1m15876/15876\u001b[0m \u001b[32m━━━━━━━━━━━━━━━━━━━━\u001b[0m\u001b[37m\u001b[0m \u001b[1m26s\u001b[0m 2ms/step - accuracy: 0.9657 - loss: 0.0990\n",
      "Test Loss: 0.09998896718025208\n",
      "Test Accuracy: 0.9656286239624023\n",
      "Testing Time: 25.66959023475647 seconds\n"
     ]
    }
   ],
   "source": [
    "# 모델 평가\n",
    "start_time = time.time()\n",
    "loss, accuracy = model.evaluate(X_test, y_test)\n",
    "inference_time = time.time() - start_time  # 예측 시간 측정 종료\n",
    "print(\"Test Loss:\", loss)\n",
    "print(\"Test Accuracy:\", accuracy)\n",
    "print(\"Testing Time:\", inference_time, \"seconds\")"
   ]
  },
  {
   "cell_type": "code",
   "execution_count": null,
   "id": "ca13f898-eeb2-46ab-b3df-c19ebee1e61a",
   "metadata": {},
   "outputs": [],
   "source": []
  }
 ],
 "metadata": {
  "kernelspec": {
   "display_name": "Python 3 (ipykernel)",
   "language": "python",
   "name": "python3"
  },
  "language_info": {
   "codemirror_mode": {
    "name": "ipython",
    "version": 3
   },
   "file_extension": ".py",
   "mimetype": "text/x-python",
   "name": "python",
   "nbconvert_exporter": "python",
   "pygments_lexer": "ipython3",
   "version": "3.11.7"
  }
 },
 "nbformat": 4,
 "nbformat_minor": 5
}
